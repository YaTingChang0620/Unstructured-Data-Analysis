{
 "cells": [
  {
   "cell_type": "markdown",
   "metadata": {},
   "source": [
    "## Latent \"Purposes\" in Mobile Apps [50 points]\n",
    "\n",
    "\n",
    "Think of Android applications as \"documents\", where \"words\" are the \"permissions\" that each app requests. Each app has a set of latent \"purposes\" (topics); a \"purpose\" may be a specific task (such as taking photographs and uploading them to the internet), and an application may have a mixture of purposes of varying strength.\n",
    "\n",
    "Can we uncover these purposes from a dataset of Android applications and the permissions they request?"
   ]
  },
  {
   "cell_type": "code",
   "execution_count": 1,
   "metadata": {},
   "outputs": [],
   "source": [
    "import numpy as np\n",
    "import matplotlib.pyplot as plt\n",
    "import pandas as pd\n",
    "%matplotlib inline"
   ]
  },
  {
   "cell_type": "markdown",
   "metadata": {},
   "source": [
    "### Part A: Load the data [0 points]"
   ]
  },
  {
   "cell_type": "markdown",
   "metadata": {},
   "source": [
    "The [dataset](http://www.mariofrank.net/andrApps/) contains ~180,000 applications from the Android app store, including each app's name, description and permissions requested. For more about Android app permissions, see [this report](http://www.pewinternet.org/2015/11/10/an-analysis-of-android-app-permissions/).\n",
    "\n",
    "   * Download the data and unzip it into the same folder as this notebook.\n",
    "   * Rename the CSV file to \"android.csv\".\n",
    "   * Run the cells below to load the data into the notebook.\n",
    "\n",
    "This may take up ~2GB of RAM."
   ]
  },
  {
   "cell_type": "code",
   "execution_count": 2,
   "metadata": {
    "scrolled": true
   },
   "outputs": [],
   "source": [
    "df = pd.read_csv(\"android.csv\", sep=\",\",  thousands=\",\")"
   ]
  },
  {
   "cell_type": "code",
   "execution_count": 5,
   "metadata": {},
   "outputs": [],
   "source": [
    "df[\"Number of ratings\"] = df[\"Number of ratings\"].astype(int) # fix data type\n",
    "df = df.drop_duplicates(subset=[\"App\"]).reset_index(drop=True) \n",
    "# subset:only consider certain columns for identifying duplicates\n",
    "# reset_index(): old index is added as columns, and a new sequential index is used "
   ]
  },
  {
   "cell_type": "code",
   "execution_count": 6,
   "metadata": {},
   "outputs": [
    {
     "data": {
      "text/html": [
       "<div>\n",
       "<style scoped>\n",
       "    .dataframe tbody tr th:only-of-type {\n",
       "        vertical-align: middle;\n",
       "    }\n",
       "\n",
       "    .dataframe tbody tr th {\n",
       "        vertical-align: top;\n",
       "    }\n",
       "\n",
       "    .dataframe thead th {\n",
       "        text-align: right;\n",
       "    }\n",
       "</style>\n",
       "<table border=\"1\" class=\"dataframe\">\n",
       "  <thead>\n",
       "    <tr style=\"text-align: right;\">\n",
       "      <th></th>\n",
       "      <th>App</th>\n",
       "      <th>Package</th>\n",
       "      <th>Category</th>\n",
       "      <th>Description</th>\n",
       "      <th>Rating</th>\n",
       "      <th>Number of ratings</th>\n",
       "      <th>Price</th>\n",
       "      <th>Related apps</th>\n",
       "      <th>Dangerous permissions count</th>\n",
       "      <th>Safe permissions count</th>\n",
       "      <th>...</th>\n",
       "      <th>Your personal information : read Browser's history and bookmarks (D)</th>\n",
       "      <th>Your personal information : read calendar events (D)</th>\n",
       "      <th>Your personal information : read contact data (D)</th>\n",
       "      <th>Your personal information : read sensitive log data (D)</th>\n",
       "      <th>Your personal information : read user defined dictionary (D)</th>\n",
       "      <th>Your personal information : retrieve system internal state (S)</th>\n",
       "      <th>Your personal information : set alarm in alarm clock (S)</th>\n",
       "      <th>Your personal information : write Browser's history and bookmarks (D)</th>\n",
       "      <th>Your personal information : write contact data (D)</th>\n",
       "      <th>Your personal information : write to user defined dictionary (S)</th>\n",
       "    </tr>\n",
       "  </thead>\n",
       "  <tbody>\n",
       "    <tr>\n",
       "      <th>0</th>\n",
       "      <td>Google Maps</td>\n",
       "      <td>com.google.android.apps.maps</td>\n",
       "      <td>Travel &amp; Local</td>\n",
       "      <td>Download the latest release of Google Maps, an...</td>\n",
       "      <td>4.4</td>\n",
       "      <td>1438259</td>\n",
       "      <td>$0.00</td>\n",
       "      <td>{com.jsdfproductions.ctatrackerpro, com.alk.co...</td>\n",
       "      <td>17.0</td>\n",
       "      <td>8</td>\n",
       "      <td>...</td>\n",
       "      <td>0</td>\n",
       "      <td>0</td>\n",
       "      <td>1</td>\n",
       "      <td>0</td>\n",
       "      <td>0</td>\n",
       "      <td>0</td>\n",
       "      <td>0</td>\n",
       "      <td>0</td>\n",
       "      <td>1</td>\n",
       "      <td>0</td>\n",
       "    </tr>\n",
       "    <tr>\n",
       "      <th>1</th>\n",
       "      <td>Snowfall Live Wallpaper</td>\n",
       "      <td>fishnoodle.snowfall_free</td>\n",
       "      <td>Personalization</td>\n",
       "      <td>Snowfall Live Wallpaper: Wintertime on your ho...</td>\n",
       "      <td>4.3</td>\n",
       "      <td>18147</td>\n",
       "      <td>$0.00</td>\n",
       "      <td>{colfore.wallpaper.snowfree, com.tabsoft.wallp...</td>\n",
       "      <td>0.0</td>\n",
       "      <td>0</td>\n",
       "      <td>...</td>\n",
       "      <td>0</td>\n",
       "      <td>0</td>\n",
       "      <td>0</td>\n",
       "      <td>0</td>\n",
       "      <td>0</td>\n",
       "      <td>0</td>\n",
       "      <td>0</td>\n",
       "      <td>0</td>\n",
       "      <td>0</td>\n",
       "      <td>0</td>\n",
       "    </tr>\n",
       "    <tr>\n",
       "      <th>2</th>\n",
       "      <td>Aquarium Live Wallpaper</td>\n",
       "      <td>fishnoodle.aquarium_free</td>\n",
       "      <td>Personalization</td>\n",
       "      <td>A beautiful tropical fish tank live wallpaper!...</td>\n",
       "      <td>4.1</td>\n",
       "      <td>62145</td>\n",
       "      <td>$0.00</td>\n",
       "      <td>{com.convisual.lwp.fishometerlite, com.accessl...</td>\n",
       "      <td>0.0</td>\n",
       "      <td>0</td>\n",
       "      <td>...</td>\n",
       "      <td>0</td>\n",
       "      <td>0</td>\n",
       "      <td>0</td>\n",
       "      <td>0</td>\n",
       "      <td>0</td>\n",
       "      <td>0</td>\n",
       "      <td>0</td>\n",
       "      <td>0</td>\n",
       "      <td>0</td>\n",
       "      <td>0</td>\n",
       "    </tr>\n",
       "  </tbody>\n",
       "</table>\n",
       "<p>3 rows × 183 columns</p>\n",
       "</div>"
      ],
      "text/plain": [
       "                       App                       Package         Category  \\\n",
       "0              Google Maps  com.google.android.apps.maps   Travel & Local   \n",
       "1  Snowfall Live Wallpaper      fishnoodle.snowfall_free  Personalization   \n",
       "2  Aquarium Live Wallpaper      fishnoodle.aquarium_free  Personalization   \n",
       "\n",
       "                                         Description  Rating  \\\n",
       "0  Download the latest release of Google Maps, an...     4.4   \n",
       "1  Snowfall Live Wallpaper: Wintertime on your ho...     4.3   \n",
       "2  A beautiful tropical fish tank live wallpaper!...     4.1   \n",
       "\n",
       "   Number of ratings  Price  \\\n",
       "0            1438259  $0.00   \n",
       "1              18147  $0.00   \n",
       "2              62145  $0.00   \n",
       "\n",
       "                                        Related apps  \\\n",
       "0  {com.jsdfproductions.ctatrackerpro, com.alk.co...   \n",
       "1  {colfore.wallpaper.snowfree, com.tabsoft.wallp...   \n",
       "2  {com.convisual.lwp.fishometerlite, com.accessl...   \n",
       "\n",
       "   Dangerous permissions count  Safe permissions count  \\\n",
       "0                         17.0                       8   \n",
       "1                          0.0                       0   \n",
       "2                          0.0                       0   \n",
       "\n",
       "                                 ...                                 \\\n",
       "0                                ...                                  \n",
       "1                                ...                                  \n",
       "2                                ...                                  \n",
       "\n",
       "   Your personal information : read Browser's history and bookmarks (D)  \\\n",
       "0                                                  0                      \n",
       "1                                                  0                      \n",
       "2                                                  0                      \n",
       "\n",
       "   Your personal information : read calendar events (D)  \\\n",
       "0                                                  0      \n",
       "1                                                  0      \n",
       "2                                                  0      \n",
       "\n",
       "   Your personal information : read contact data (D)  \\\n",
       "0                                                  1   \n",
       "1                                                  0   \n",
       "2                                                  0   \n",
       "\n",
       "   Your personal information : read sensitive log data (D)  \\\n",
       "0                                                  0         \n",
       "1                                                  0         \n",
       "2                                                  0         \n",
       "\n",
       "   Your personal information : read user defined dictionary (D)  \\\n",
       "0                                                  0              \n",
       "1                                                  0              \n",
       "2                                                  0              \n",
       "\n",
       "   Your personal information : retrieve system internal state (S)  \\\n",
       "0                                                  0                \n",
       "1                                                  0                \n",
       "2                                                  0                \n",
       "\n",
       "   Your personal information : set alarm in alarm clock (S)  \\\n",
       "0                                                  0          \n",
       "1                                                  0          \n",
       "2                                                  0          \n",
       "\n",
       "   Your personal information : write Browser's history and bookmarks (D)  \\\n",
       "0                                                  0                       \n",
       "1                                                  0                       \n",
       "2                                                  0                       \n",
       "\n",
       "   Your personal information : write contact data (D)  \\\n",
       "0                                                  1    \n",
       "1                                                  0    \n",
       "2                                                  0    \n",
       "\n",
       "   Your personal information : write to user defined dictionary (S)  \n",
       "0                                                  0                 \n",
       "1                                                  0                 \n",
       "2                                                  0                 \n",
       "\n",
       "[3 rows x 183 columns]"
      ]
     },
     "execution_count": 6,
     "metadata": {},
     "output_type": "execute_result"
    }
   ],
   "source": [
    "df.head(n=3)"
   ]
  },
  {
   "cell_type": "markdown",
   "metadata": {},
   "source": [
    "### Part B: Convert each app into a \"document\" [0 points]\n",
    "\n",
    "The code below does the following:\n",
    "\n",
    "   * Filter out all the columns except the permission columns.\n",
    "   * Convert this dataframe into a numpy matrix.\n",
    "\n",
    "There are thus 180295 apps (documents) and 173 permissions (words).\n",
    "\n",
    "   - `X` is the \"document\" or \"word-frequency\" matrix.\n",
    "   - `permission_columns` contains the words ordered by their column index in X.\n",
    "   - `app_names` contains the application names ordered by their row index in X.\n",
    "   - `app_ratings` contains the *number* of application ratings (not the ratings themselves)."
   ]
  },
  {
   "cell_type": "code",
   "execution_count": 8,
   "metadata": {},
   "outputs": [],
   "source": [
    "permission_columns = list(df.columns[10:])\n",
    "app_names = list(df[\"App\"])\n",
    "app_ratings = np.array(df[\"Number of ratings\"])\n",
    "df_perms = df[permission_columns]\n",
    "X = df_perms.as_matrix()\n",
    "del df # uncomment to free up RAM\n",
    "del df_perms # uncomment to free up RAM"
   ]
  },
  {
   "cell_type": "markdown",
   "metadata": {},
   "source": [
    "### Part C: Downweight \"stop-words\" [2.5 points]\n",
    "\n",
    "There are some permissions requested by almost all applications (like \"INTERNET\"), they are similar to stop-words (\"the\", \"and\", etc.) in natural language. We can downweight them by TF-IDF normalization.\n",
    "\n",
    "   * Use the `TfidfTransformer` class in `scikit-learn` to transform X."
   ]
  },
  {
   "cell_type": "code",
   "execution_count": 11,
   "metadata": {},
   "outputs": [],
   "source": [
    "########################################################################\n",
    "######################### Write your code here #########################\n",
    "########################################################################\n",
    "from sklearn.feature_extraction.text import TfidfTransformer\n",
    "vectorizer = TfidfTransformer()\n",
    "X = vectorizer.fit_transform(X)"
   ]
  },
  {
   "cell_type": "code",
   "execution_count": 12,
   "metadata": {},
   "outputs": [
    {
     "data": {
      "text/plain": [
       "(180295, 173)"
      ]
     },
     "execution_count": 12,
     "metadata": {},
     "output_type": "execute_result"
    }
   ],
   "source": [
    "X.shape"
   ]
  },
  {
   "cell_type": "markdown",
   "metadata": {},
   "source": [
    "### Part D: Discover 10 \"topics\" [2.5 points]\n",
    "\n",
    "   * Use the `LatentDirichletAllocation` class in `scikit-learn` to fit 10 topics to the data.\n",
    "   * Use 10 max iterations, set `n_jobs=-1` to use all cores on your machine (if it helps).\n",
    "   * Feel free to understand and play around with other parameters.\n",
    "   * This may take around 3 minutes to run."
   ]
  },
  {
   "cell_type": "code",
   "execution_count": null,
   "metadata": {},
   "outputs": [],
   "source": [
    "# Tunning parameters:\n",
    "# 1. n_componenes\n",
    "# 2. learning_decay\n",
    "# 3. learning_offset\n",
    "# 4. max_iter"
   ]
  },
  {
   "cell_type": "code",
   "execution_count": 13,
   "metadata": {},
   "outputs": [
    {
     "name": "stdout",
     "output_type": "stream",
     "text": [
      "Wall time: 5min 48s\n"
     ]
    }
   ],
   "source": [
    "%%time\n",
    "########################################################################\n",
    "######################### Write your code here #########################\n",
    "########################################################################\n",
    "from sklearn.decomposition import LatentDirichletAllocation\n",
    "component = 10\n",
    "lda = LatentDirichletAllocation(n_components=component,n_jobs=-1,learning_method='online',random_state=95865,max_iter=10)\n",
    "lda.fit(X)"
   ]
  },
  {
   "cell_type": "markdown",
   "metadata": {},
   "source": [
    "Now each app can be viewed as a distribution over these 10 topics, and each topic is a distribution over all the permissions in the data."
   ]
  },
  {
   "cell_type": "markdown",
   "metadata": {},
   "source": [
    "### Part E: List the top 10 \"words\" in each topic [15 points]\n",
    "\n",
    "Do any of the topics correspond to meaningful app \"purposes\"? List the ones you find meaningful below:"
   ]
  },
  {
   "cell_type": "code",
   "execution_count": 52,
   "metadata": {},
   "outputs": [
    {
     "name": "stdout",
     "output_type": "stream",
     "text": [
      "\n",
      "Topic  0 :\n",
      "System tools : automatically start at boot (S)\n",
      "Your location : fine (GPS) location (D)\n",
      "Your location : coarse (network-based) location (D)\n",
      "Hardware controls : control vibrator (S)\n",
      "Network communication : view network state (S)\n",
      "Phone calls : read phone state and identity (D)\n",
      "Your location : mock location sources for testing (D)\n",
      "Network communication : full Internet access (D)\n",
      "Your location : access extra location provider commands (S)\n",
      "Storage : modify/delete USB storage contents modify/delete SD card contents (D)\n",
      "\n",
      "Topic  1 :\n",
      "Network communication : full Internet access (D)\n",
      "Network communication : view network state (S)\n",
      "Services that cost you money : directly call phone numbers (D)\n",
      "Your personal information : read contact data (D)\n",
      "Hardware controls : record audio (D)\n",
      "Services that cost you money : send SMS messages (D)\n",
      "Default : mock location sources for testing (S)\n",
      "Your messages : write instant messages (D)\n",
      "Default : start IM service (S)\n",
      "Default : act as an account authenticator (S)\n",
      "\n",
      "Topic  2 :\n",
      "Phone calls : read phone state and identity (D)\n",
      "System tools : retrieve running applications (D)\n",
      "System tools : prevent device from sleeping (D)\n",
      "Network communication : view network state (S)\n",
      "Network communication : full Internet access (D)\n",
      "Network communication : receive data from Internet (S)\n",
      "Storage : modify/delete USB storage contents modify/delete SD card contents (D)\n",
      "Your location : fine (GPS) location (D)\n",
      "Hardware controls : control vibrator (S)\n",
      "System tools : automatically start at boot (S)\n",
      "\n",
      "Topic  3 :\n",
      "Services that cost you money : directly call phone numbers (D)\n",
      "Your personal information : read contact data (D)\n",
      "Services that cost you money : send SMS messages (D)\n",
      "Hardware controls : record audio (D)\n",
      "Your messages : receive SMS (D)\n",
      "Network communication : full Internet access (D)\n",
      "Your messages : read SMS or MMS (D)\n",
      "Your messages : edit SMS or MMS (D)\n",
      "Phone calls : read phone state and identity (D)\n",
      "Storage : modify/delete USB storage contents modify/delete SD card contents (D)\n",
      "\n",
      "Topic  4 :\n",
      "Phone calls : read phone state and identity (D)\n",
      "Network communication : view Wi-Fi state (S)\n",
      "Network communication : view network state (S)\n",
      "Network communication : full Internet access (D)\n",
      "Storage : modify/delete USB storage contents modify/delete SD card contents (D)\n",
      "System tools : display system-level alerts (D)\n",
      "System tools : allow Wi-Fi Multicast reception (D)\n",
      "Default : bind to a wallpaper (S)\n",
      "Default : press keys and control buttons (S)\n",
      "Default : record what you type and actions you take (S)\n",
      "\n",
      "Topic  5 :\n",
      "System tools : modify global system settings (D)\n",
      "System tools : mount and unmount filesystems (D)\n",
      "Storage : modify/delete USB storage contents modify/delete SD card contents (D)\n",
      "Network communication : full Internet access (D)\n",
      "Network communication : view network state (S)\n",
      "System tools : expand/collapse status bar (S)\n",
      "Default : delete other applications' caches (S)\n",
      "Your personal information : choose widgets (S)\n",
      "System tools : send package removed broadcast (S)\n",
      "Default : update component usage statistics (S)\n",
      "\n",
      "Topic  6 :\n",
      "Hardware controls : control vibrator (S)\n",
      "Network communication : full Internet access (D)\n",
      "Network communication : view network state (S)\n",
      "Default : control location update notifications (S)\n",
      "Hardware controls : test hardware (S)\n",
      "Default : permission to install a location provider (S)\n",
      "Storage : modify/delete USB storage contents modify/delete SD card contents (D)\n",
      "Default : run in factory test mode (S)\n",
      "Default : set time (S)\n",
      "Default : modify/delete USB storage contents modify/delete SD card contents (S)\n",
      "\n",
      "Topic  7 :\n",
      "Storage : modify/delete USB storage contents modify/delete SD card contents (D)\n",
      "Your location : coarse (network-based) location (D)\n",
      "Your location : fine (GPS) location (D)\n",
      "Network communication : full Internet access (D)\n",
      "Network communication : view network state (S)\n",
      "Phone calls : read phone state and identity (D)\n",
      "Services that cost you money : directly call phone numbers (D)\n",
      "Hardware controls : take pictures and videos (D)\n",
      "System tools : send sticky broadcast (S)\n",
      "Network communication : view Wi-Fi state (S)\n",
      "\n",
      "Topic  8 :\n",
      "System tools : prevent device from sleeping (D)\n",
      "Network communication : full Internet access (D)\n",
      "Storage : modify/delete USB storage contents modify/delete SD card contents (D)\n",
      "Network communication : view network state (S)\n",
      "Phone calls : read phone state and identity (D)\n",
      "System tools : kill background processes (S)\n",
      "Your accounts : discover known accounts (S)\n",
      "Your personal information : read sensitive log data (D)\n",
      "Default : bind to an input method (S)\n",
      "Your messages : Read Email attachments (D)\n",
      "\n",
      "Topic  9 :\n",
      "System tools : set wallpaper (S)\n",
      "Hardware controls : take pictures and videos (D)\n",
      "Storage : modify/delete USB storage contents modify/delete SD card contents (D)\n",
      "Network communication : full Internet access (D)\n",
      "Network communication : view network state (S)\n",
      "Network communication : create Bluetooth connections (D)\n",
      "System tools : bluetooth administration (D)\n",
      "System tools : set wallpaper size hints (S)\n",
      "Default : change screen orientation (S)\n",
      "System tools : change background data usage setting (S)\n"
     ]
    }
   ],
   "source": [
    "########################################################################\n",
    "######################### Write your code here #########################\n",
    "########################################################################\n",
    "for i in range(component):\n",
    "    print('\\nTopic ',i,\":\")\n",
    "    topic_index_sort = np.argsort(lda.components_[i])[::-1][:10]\n",
    "    for permission in topic_index_sort:\n",
    "        print(permission_columns[permission])"
   ]
  },
  {
   "cell_type": "markdown",
   "metadata": {},
   "source": [
    "*** WRITE YOUR ANSWER HERE IN TEXT ***\n",
    "\n",
    "* Topic #0: \"Access user's location\"\n",
    "* Topic #3: \"Service that might send message to user\"\n",
    "* Topic #7: \"Photograph and uploading\"\n",
    "* Topic #9: \"Change wallpaper\""
   ]
  },
  {
   "cell_type": "markdown",
   "metadata": {},
   "source": [
    "### Part F: For each topic, list the top 3 apps with at least 100000 ratings having the highest probability assigned to that topic [15 points]\n",
    "\n",
    "   - This further helps us understand what the topics actually mean.\n",
    "   - However, the data is noisy and this exercise may result in listing a bunch of obscure apps.\n",
    "   - Hence, filtering out all apps with less than 100000 ratings may help."
   ]
  },
  {
   "cell_type": "code",
   "execution_count": 29,
   "metadata": {},
   "outputs": [
    {
     "data": {
      "text/plain": [
       "(180295, 10)"
      ]
     },
     "execution_count": 29,
     "metadata": {},
     "output_type": "execute_result"
    }
   ],
   "source": [
    "########################################################################\n",
    "######################### Write your code here #########################\n",
    "########################################################################\n",
    "XX = lda.fit_transform(X)\n",
    "XX.shape #(180295, 10)"
   ]
  },
  {
   "cell_type": "code",
   "execution_count": 45,
   "metadata": {},
   "outputs": [
    {
     "name": "stdout",
     "output_type": "stream",
     "text": [
      "\n",
      "Topic  0  : \n",
      "Vaulty Free Hides Pictures\n",
      "Live Holdem Poker Pro\n",
      "Mouse Trap\n",
      "\n",
      "Topic  1  : \n",
      "Angry Birds Seasons\n",
      "Yoo Ninja! Free\n",
      "Adobe Reader\n",
      "\n",
      "Topic  2  : \n",
      "Meet New People\n",
      "Movies\n",
      "Wordfeud FREE\n",
      "\n",
      "Topic  3  : \n",
      "Google Translate\n",
      "chompSMS\n",
      "TweetCaster for Twitter\n",
      "\n",
      "Topic  4  : \n",
      "Paradise Island\n",
      "My Country\n",
      "World Newspapers\n",
      "\n",
      "Topic  5  : \n",
      "Google Sky Map\n",
      "Ringdroid\n",
      "Zedge Ringtones & Wallpapers\n",
      "\n",
      "Topic  6  : \n",
      "SpeechSynthesis Data Installer\n",
      "Adobe Flash Player 11\n",
      "Adobe Reader\n",
      "\n",
      "Topic  7  : \n",
      "Toss It\n",
      "Dictionary.com\n",
      "Air Control Lite\n",
      "\n",
      "Topic  8  : \n",
      "Real BlackJack\n",
      "Alchemy\n",
      "Tank Hero\n",
      "\n",
      "Topic  9  : \n",
      "Yahoo! Mail\n",
      "Gmail\n",
      "Twitter\n"
     ]
    }
   ],
   "source": [
    "app_names = np.array(app_names)\n",
    "for i in range(XX.shape[1]):\n",
    "    app_rating_idx = app_ratings>100000\n",
    "    XX_ = XX[app_rating_idx,i]\n",
    "    name = app_names[app_rating_idx]\n",
    "    app_top = np.argsort(XX_)[::-1][:3]\n",
    "    print('\\nTopic ',i,\" : \")\n",
    "    for app in app_top:\n",
    "        print(name[app])"
   ]
  },
  {
   "cell_type": "markdown",
   "metadata": {},
   "source": [
    "### Part G: Visualize the document-topic proportion matrix in 2-D using t-SNE [15 points]\n",
    "\n",
    "Does our reduced dimensional space contain any structure? Visualize the documents (in the topic-space) using t-SNE.\n",
    "\n",
    "   * Use `TSNE` from `scikit-learn`.\n",
    "   * Set the angle to 0.99 and init to 'PCA'. Pick any learning rate that gives you a visually pleasing result.\n",
    "   * You may `fit` TSNE to a sample of the data (>1000 documents) instead of the full data.\n",
    "   * Remember to call `fit_transform` to obtain your 2-D data.\n",
    "   * Plot the t-SNE dimensions as a scatterplot.\n",
    "   * Color each point based on its most probable topic. Make sure you include a legend (10 colors).\n",
    "   \n",
    "Clusters in the t-SNE plot indicate groups of apps that have similar topics."
   ]
  },
  {
   "cell_type": "code",
   "execution_count": 54,
   "metadata": {},
   "outputs": [
    {
     "name": "stdout",
     "output_type": "stream",
     "text": [
      "Wall time: 37.9 s\n"
     ]
    }
   ],
   "source": [
    "%%time\n",
    "########################################################################\n",
    "######################### Write your code here #########################\n",
    "########################################################################\n",
    "from sklearn.manifold import TSNE\n",
    "sample = np.random.permutation(XX.shape[0])[:1500]\n",
    "X_sample = XX[sample,:]\n",
    "tsne = TSNE(n_components=2, angle=0.99, init='pca')\n",
    "X_tsne = tsne.fit_transform(X_sample)"
   ]
  },
  {
   "cell_type": "code",
   "execution_count": 76,
   "metadata": {},
   "outputs": [],
   "source": [
    "# XX.shape #(180295, 10)\n",
    "cluster_assignment = []\n",
    "for i in range(X_sample.shape[0]):\n",
    "    toprank_for_doc = np.argsort(X_sample[i,:])[::-1][0]\n",
    "    cluster_assignment.append(toprank_for_doc)"
   ]
  },
  {
   "cell_type": "code",
   "execution_count": 100,
   "metadata": {},
   "outputs": [
    {
     "data": {
      "text/plain": [
       "<matplotlib.legend.Legend at 0x1bcd6620198>"
      ]
     },
     "execution_count": 100,
     "metadata": {},
     "output_type": "execute_result"
    },
    {
     "data": {
      "image/png": "[encoded data removed]",
      "text/plain": [
       "<matplotlib.figure.Figure at 0x1bcd6598748>"
      ]
     },
     "metadata": {},
     "output_type": "display_data"
    }
   ],
   "source": [
    "assignment = np.unique(cluster_assignment)\n",
    "for i in assignment:\n",
    "    idx = np.array(cluster_assignment)==i\n",
    "    X_tsne_i = X_tsne[idx,:]\n",
    "    plt.scatter(X_tsne_i[:,0],X_tsne_i[:,1],label = str(i))\n",
    "plt.legend(loc=(1.04,0))"
   ]
  }
 ],
 "metadata": {
  "kernelspec": {
   "display_name": "Python 3",
   "language": "python",
   "name": "python3"
  },
  "language_info": {
   "codemirror_mode": {
    "name": "ipython",
    "version": 3
   },
   "file_extension": ".py",
   "mimetype": "text/x-python",
   "name": "python",
   "nbconvert_exporter": "python",
   "pygments_lexer": "ipython3",
   "version": "3.6.4"
  }
 },
 "nbformat": 4,
 "nbformat_minor": 2
}
